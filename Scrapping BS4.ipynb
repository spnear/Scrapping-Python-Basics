{
 "cells": [
  {
   "cell_type": "markdown",
   "source": [
    "# Scrapping con BS4\n",
    "\n",
    "En este notebook realizo Scrapping basado en el urso de Web Scrapping de Python, utilizaré el periodico Colombiano EL TIEMPO para hacer mi propia version de Scrapping"
   ],
   "metadata": {}
  },
  {
   "cell_type": "markdown",
   "source": [
    "#### Solicitudes de páginas web\n",
    "Para realizar las peticiones a páginas web haremos uso de la librería request de Python"
   ],
   "metadata": {}
  },
  {
   "cell_type": "code",
   "execution_count": 1,
   "source": [
    "import requests"
   ],
   "outputs": [],
   "metadata": {}
  },
  {
   "cell_type": "code",
   "execution_count": 2,
   "source": [
    "from IPython.display import Image"
   ],
   "outputs": [],
   "metadata": {}
  },
  {
   "cell_type": "code",
   "execution_count": 3,
   "source": [
    "url = 'https://www.eltiempo.com/'"
   ],
   "outputs": [],
   "metadata": {}
  },
  {
   "cell_type": "code",
   "execution_count": 4,
   "source": [
    "response = requests.get(url)"
   ],
   "outputs": [],
   "metadata": {}
  },
  {
   "cell_type": "code",
   "execution_count": 5,
   "source": [
    "response.status_code"
   ],
   "outputs": [
    {
     "output_type": "execute_result",
     "data": {
      "text/plain": [
       "200"
      ]
     },
     "metadata": {},
     "execution_count": 5
    }
   ],
   "metadata": {}
  },
  {
   "cell_type": "markdown",
   "source": [
    "##### Status 200 code = Request ejecutado con éxito"
   ],
   "metadata": {}
  },
  {
   "cell_type": "code",
   "execution_count": 6,
   "source": [
    "#response.text\n",
    "#Imprimimos como texto el response obtenido"
   ],
   "outputs": [],
   "metadata": {}
  },
  {
   "cell_type": "code",
   "execution_count": 7,
   "source": [
    "#response.content\n",
    "#Para casos donde obtenemos archivos multimedia"
   ],
   "outputs": [],
   "metadata": {}
  },
  {
   "cell_type": "code",
   "execution_count": 8,
   "source": [
    "response.headers\n",
    "#Encabezado de la página web"
   ],
   "outputs": [
    {
     "output_type": "execute_result",
     "data": {
      "text/plain": [
       "{'Server': 'nginx', 'Content-Type': 'text/html; charset=UTF-8', 'X-Server': 'fet03', 'Strict-Transport-Security': 'max-age=15768000; includeSubDomains, max-age=157680000', 'x-url': '/', 'x-frame-options': 'sameorigin', 'X-Cacheable': 'YES', 'X-Varnish': '946789228 947112305', 'X-sc': 'fetx3', 'X-CDN': 'Imperva', 'Content-Encoding': 'gzip', 'X-Iinfo': '14-42648906-42662644 PNYN RT(1628265781149 134501) q(0 0 0 0) r(1 1) U5', 'X-Akamai-Transformed': '9 - 0 pmb=mRUM,1', 'Cache-Control': 'max-age=120', 'Expires': 'Fri, 06 Aug 2021 16:09:35 GMT', 'Date': 'Fri, 06 Aug 2021 16:07:35 GMT', 'Transfer-Encoding': 'chunked', 'Connection': 'keep-alive, Transfer-Encoding', 'Vary': 'Accept-Encoding', 'Server-Timing': 'cdn-cache; desc=HIT, edge; dur=1', 'version': 'desktop'}"
      ]
     },
     "metadata": {},
     "execution_count": 8
    }
   ],
   "metadata": {}
  },
  {
   "cell_type": "code",
   "execution_count": 9,
   "source": [
    "#Encabezado de NUESTRA solicitud:\n",
    "response.request.headers"
   ],
   "outputs": [
    {
     "output_type": "execute_result",
     "data": {
      "text/plain": [
       "{'User-Agent': 'python-requests/2.25.1', 'Accept-Encoding': 'gzip, deflate', 'Accept': '*/*', 'Connection': 'keep-alive'}"
      ]
     },
     "metadata": {},
     "execution_count": 9
    }
   ],
   "metadata": {}
  },
  {
   "cell_type": "markdown",
   "source": [
    "###### Observemos como el servidor encuentra que se realizo una solicitud usando el software de python, este user-agent en algunos casos debe ser cambiado para acceder a ciertas wb"
   ],
   "metadata": {}
  },
  {
   "cell_type": "code",
   "execution_count": 10,
   "source": [
    "#Repaso de nuestro método GET:\n",
    "response.request.method"
   ],
   "outputs": [
    {
     "output_type": "execute_result",
     "data": {
      "text/plain": [
       "'GET'"
      ]
     },
     "metadata": {},
     "execution_count": 10
    }
   ],
   "metadata": {}
  },
  {
   "cell_type": "code",
   "execution_count": 11,
   "source": [
    "#Confirmamos la URL solicitada con:\n",
    "response.request.url"
   ],
   "outputs": [
    {
     "output_type": "execute_result",
     "data": {
      "text/plain": [
       "'https://www.eltiempo.com/'"
      ]
     },
     "metadata": {},
     "execution_count": 11
    }
   ],
   "metadata": {}
  },
  {
   "cell_type": "markdown",
   "source": [
    "### Parseando HTML con BeatifulSoup"
   ],
   "metadata": {}
  },
  {
   "cell_type": "code",
   "execution_count": 12,
   "source": [
    "from bs4 import BeautifulSoup"
   ],
   "outputs": [],
   "metadata": {}
  },
  {
   "cell_type": "code",
   "execution_count": 13,
   "source": [
    "# Parseamos el codigo HTML\n",
    "s = BeautifulSoup(response.text, 'lxml')"
   ],
   "outputs": [],
   "metadata": {}
  },
  {
   "cell_type": "code",
   "execution_count": 14,
   "source": [
    "type(s)"
   ],
   "outputs": [
    {
     "output_type": "execute_result",
     "data": {
      "text/plain": [
       "bs4.BeautifulSoup"
      ]
     },
     "metadata": {},
     "execution_count": 14
    }
   ],
   "metadata": {}
  },
  {
   "cell_type": "code",
   "execution_count": 15,
   "source": [
    "#Mejoramos la presentación del texto html con prettify()\n",
    "#print(s.prettify())"
   ],
   "outputs": [],
   "metadata": {}
  },
  {
   "cell_type": "markdown",
   "source": [
    "### Revisando estructura de la página EL TIEMPO.\n",
    "\n",
    "Como podemos observar, la barra de navegacion de secciones está en el div identificado con class = 'default-menu'"
   ],
   "metadata": {}
  },
  {
   "cell_type": "code",
   "execution_count": 16,
   "source": [
    "# Obtener encabezado de la página:\n",
    "#s.find('ul') #De esta forma solo retorna el primer ul\n",
    "s.find('ul', attrs={'class' : 'default-menu'})"
   ],
   "outputs": [
    {
     "output_type": "execute_result",
     "data": {
      "text/plain": [
       "<ul class=\"default-menu\">\n",
       "<li class=\"opinion first\" itemprop=\"name\">\n",
       "<a href=\"/opinion\" itemprop=\"url\">Opinión</a>\n",
       "</li>\n",
       "<li class=\"colombia\" itemprop=\"name\">\n",
       "<a href=\"/colombia\" itemprop=\"url\">Colombia</a>\n",
       "</li>\n",
       "<li class=\"bogota\" itemprop=\"name\">\n",
       "<a href=\"/bogota\" itemprop=\"url\">Bogotá</a>\n",
       "</li>\n",
       "<li class=\"mundo\" itemprop=\"name\">\n",
       "<a href=\"/mundo\" itemprop=\"url\">Internacional</a>\n",
       "</li>\n",
       "<li class=\"politica\" itemprop=\"name\">\n",
       "<a href=\"/politica\" itemprop=\"url\">Política</a>\n",
       "</li>\n",
       "<li class=\"justicia\" itemprop=\"name\">\n",
       "<a href=\"/justicia\" itemprop=\"url\">Justicia</a>\n",
       "</li>\n",
       "<li class=\"economia\" itemprop=\"name\">\n",
       "<a href=\"/economia\" itemprop=\"url\">Economía</a>\n",
       "</li>\n",
       "<li class=\"deportes\" itemprop=\"name\">\n",
       "<a href=\"/deportes\" itemprop=\"url\">Deportes</a>\n",
       "</li>\n",
       "<li class=\"cultura\" itemprop=\"name\">\n",
       "<a href=\"/cultura\" itemprop=\"url\">Cultura</a>\n",
       "</li>\n",
       "<li class=\"tecnosfera\" itemprop=\"name\">\n",
       "<a href=\"/tecnosfera\" itemprop=\"url\">Tecnología</a>\n",
       "</li>\n",
       "<li class=\"vida\" itemprop=\"name\">\n",
       "<a href=\"/vida\" itemprop=\"url\">Vida</a>\n",
       "</li>\n",
       "<li class=\"salud\" itemprop=\"name\">\n",
       "<a href=\"/salud\" itemprop=\"url\">Salud</a>\n",
       "</li>\n",
       "<li class=\"unidad-investigativa\" itemprop=\"name\">\n",
       "<a href=\"/unidad-investigativa\" itemprop=\"url\">Unidad Investigativa</a>\n",
       "</li>\n",
       "<li class=\"link external last\" itemprop=\"name\">\n",
       "<a href=\"/eltiempoplay\" itemprop=\"url\">El Tiempo Play</a>\n",
       "</li>\n",
       "</ul>"
      ]
     },
     "metadata": {},
     "execution_count": 16
    }
   ],
   "metadata": {}
  },
  {
   "cell_type": "markdown",
   "source": [
    "Sin embargo, realmente lo que nos importa es el elemento li (list item) contenido en el tag ul, para ello usamos:"
   ],
   "metadata": {}
  },
  {
   "cell_type": "code",
   "execution_count": 17,
   "source": [
    "secciones = s.find('ul', attrs={'class' : 'default-menu'}).find_all('li')\n",
    "#secciones"
   ],
   "outputs": [],
   "metadata": {}
  },
  {
   "cell_type": "markdown",
   "source": [
    "### Hora de extraer la información contenida en los tag! , nuestro objetivo los href"
   ],
   "metadata": {}
  },
  {
   "cell_type": "code",
   "execution_count": 18,
   "source": [
    "seccion = secciones[0]"
   ],
   "outputs": [],
   "metadata": {}
  },
  {
   "cell_type": "code",
   "execution_count": 19,
   "source": [
    "seccion"
   ],
   "outputs": [
    {
     "output_type": "execute_result",
     "data": {
      "text/plain": [
       "<li class=\"opinion first\" itemprop=\"name\">\n",
       "<a href=\"/opinion\" itemprop=\"url\">Opinión</a>\n",
       "</li>"
      ]
     },
     "metadata": {},
     "execution_count": 19
    }
   ],
   "metadata": {}
  },
  {
   "cell_type": "code",
   "execution_count": 20,
   "source": [
    "#Entrar al tag a"
   ],
   "outputs": [],
   "metadata": {}
  },
  {
   "cell_type": "code",
   "execution_count": 21,
   "source": [
    "#Método 1\n",
    "print(seccion.find('a'))\n",
    "\n",
    "#Método 2\n",
    "print(seccion.a)"
   ],
   "outputs": [
    {
     "output_type": "stream",
     "name": "stdout",
     "text": [
      "<a href=\"/opinion\" itemprop=\"url\">Opinión</a>\n",
      "<a href=\"/opinion\" itemprop=\"url\">Opinión</a>\n"
     ]
    }
   ],
   "metadata": {}
  },
  {
   "cell_type": "code",
   "execution_count": 22,
   "source": [
    "#Objetivo: Obtener href y texto\n",
    "print(\"Texto: \", seccion.a.get_text())\n",
    "print(\"URL: \", seccion.a.get('href'))"
   ],
   "outputs": [
    {
     "output_type": "stream",
     "name": "stdout",
     "text": [
      "Texto:  Opinión\n",
      "URL:  /opinion\n"
     ]
    }
   ],
   "metadata": {}
  },
  {
   "cell_type": "markdown",
   "source": [
    "##### Este es un caso particular, podemos obtener exactamente el link parseando con la URL"
   ],
   "metadata": {}
  },
  {
   "cell_type": "code",
   "execution_count": 23,
   "source": [
    "print(\"URL: \", url+seccion.a.get('href')[1:])"
   ],
   "outputs": [
    {
     "output_type": "stream",
     "name": "stdout",
     "text": [
      "URL:  https://www.eltiempo.com/opinion\n"
     ]
    }
   ],
   "metadata": {}
  },
  {
   "cell_type": "markdown",
   "source": [
    "### Obtener todos los links desde secciones\n",
    "\n",
    "Vamos a realizar la obtención de todos los links mediante un list_comprehension\n",
    "\n",
    "Adicional, recordando la particularidad vista anteriormente, creo una función para añadir la URL al href"
   ],
   "metadata": {}
  },
  {
   "cell_type": "code",
   "execution_count": 24,
   "source": [
    "def add_url(url: str,href: str)-> str:\n",
    "    return url+href[1:]"
   ],
   "outputs": [],
   "metadata": {}
  },
  {
   "cell_type": "code",
   "execution_count": 25,
   "source": [
    "link_secciones = [add_url(url, seccion.a.get('href')) for seccion in secciones]\n",
    "link_secciones"
   ],
   "outputs": [
    {
     "output_type": "execute_result",
     "data": {
      "text/plain": [
       "['https://www.eltiempo.com/opinion',\n",
       " 'https://www.eltiempo.com/colombia',\n",
       " 'https://www.eltiempo.com/bogota',\n",
       " 'https://www.eltiempo.com/mundo',\n",
       " 'https://www.eltiempo.com/politica',\n",
       " 'https://www.eltiempo.com/justicia',\n",
       " 'https://www.eltiempo.com/economia',\n",
       " 'https://www.eltiempo.com/deportes',\n",
       " 'https://www.eltiempo.com/cultura',\n",
       " 'https://www.eltiempo.com/tecnosfera',\n",
       " 'https://www.eltiempo.com/vida',\n",
       " 'https://www.eltiempo.com/salud',\n",
       " 'https://www.eltiempo.com/unidad-investigativa',\n",
       " 'https://www.eltiempo.com/eltiempoplay']"
      ]
     },
     "metadata": {},
     "execution_count": 25
    }
   ],
   "metadata": {}
  },
  {
   "cell_type": "code",
   "execution_count": 26,
   "source": [
    "texto_secciones = [seccion.a.get_text() for seccion in secciones]\n",
    "texto_secciones"
   ],
   "outputs": [
    {
     "output_type": "execute_result",
     "data": {
      "text/plain": [
       "['Opinión',\n",
       " 'Colombia',\n",
       " 'Bogotá',\n",
       " 'Internacional',\n",
       " 'Política',\n",
       " 'Justicia',\n",
       " 'Economía',\n",
       " 'Deportes',\n",
       " 'Cultura',\n",
       " 'Tecnología',\n",
       " 'Vida',\n",
       " 'Salud',\n",
       " 'Unidad Investigativa',\n",
       " 'El Tiempo Play']"
      ]
     },
     "metadata": {},
     "execution_count": 26
    }
   ],
   "metadata": {}
  },
  {
   "cell_type": "markdown",
   "source": [
    "### Mostrando nuestro Scrappeo :D"
   ],
   "metadata": {}
  },
  {
   "cell_type": "code",
   "execution_count": 27,
   "source": [
    "for idx,texto in enumerate(texto_secciones):\n",
    "    print(f\"Sección N° {idx}. {texto:>3}, accede a ella mediante el link: {link_secciones[idx]:>}\\n\")"
   ],
   "outputs": [
    {
     "output_type": "stream",
     "name": "stdout",
     "text": [
      "Sección N° 0. Opinión, accede a ella mediante el link: https://www.eltiempo.com/opinion\n",
      "\n",
      "Sección N° 1. Colombia, accede a ella mediante el link: https://www.eltiempo.com/colombia\n",
      "\n",
      "Sección N° 2. Bogotá, accede a ella mediante el link: https://www.eltiempo.com/bogota\n",
      "\n",
      "Sección N° 3. Internacional, accede a ella mediante el link: https://www.eltiempo.com/mundo\n",
      "\n",
      "Sección N° 4. Política, accede a ella mediante el link: https://www.eltiempo.com/politica\n",
      "\n",
      "Sección N° 5. Justicia, accede a ella mediante el link: https://www.eltiempo.com/justicia\n",
      "\n",
      "Sección N° 6. Economía, accede a ella mediante el link: https://www.eltiempo.com/economia\n",
      "\n",
      "Sección N° 7. Deportes, accede a ella mediante el link: https://www.eltiempo.com/deportes\n",
      "\n",
      "Sección N° 8. Cultura, accede a ella mediante el link: https://www.eltiempo.com/cultura\n",
      "\n",
      "Sección N° 9. Tecnología, accede a ella mediante el link: https://www.eltiempo.com/tecnosfera\n",
      "\n",
      "Sección N° 10. Vida, accede a ella mediante el link: https://www.eltiempo.com/vida\n",
      "\n",
      "Sección N° 11. Salud, accede a ella mediante el link: https://www.eltiempo.com/salud\n",
      "\n",
      "Sección N° 12. Unidad Investigativa, accede a ella mediante el link: https://www.eltiempo.com/unidad-investigativa\n",
      "\n",
      "Sección N° 13. El Tiempo Play, accede a ella mediante el link: https://www.eltiempo.com/eltiempoplay\n",
      "\n"
     ]
    }
   ],
   "metadata": {}
  },
  {
   "cell_type": "markdown",
   "source": [
    "## Ya podemos Scrappear las secciones a partir de los links obtenidos"
   ],
   "metadata": {}
  },
  {
   "cell_type": "code",
   "execution_count": 28,
   "source": [
    "sec = requests.get(link_secciones[0]) #Obtenemos la pagina de Opinión"
   ],
   "outputs": [],
   "metadata": {}
  },
  {
   "cell_type": "code",
   "execution_count": 29,
   "source": [
    "sec.status_code #Verificamos que todo está correcto"
   ],
   "outputs": [
    {
     "output_type": "execute_result",
     "data": {
      "text/plain": [
       "200"
      ]
     },
     "metadata": {},
     "execution_count": 29
    }
   ],
   "metadata": {}
  },
  {
   "cell_type": "code",
   "execution_count": 30,
   "source": [
    "s_seccion = BeautifulSoup(sec.text, 'lxml')"
   ],
   "outputs": [],
   "metadata": {}
  },
  {
   "cell_type": "code",
   "execution_count": 31,
   "source": [
    "#print(s_seccion.prettify())"
   ],
   "outputs": [],
   "metadata": {}
  },
  {
   "cell_type": "code",
   "execution_count": 32,
   "source": [
    "#columnas = s_seccion.find('div', attrs={'class': 'columnistas-container'}).find('div', attrs = {'class':'opinion-author-articles'})\n",
    "columnas = s_seccion.find('div', attrs={'id' : 'ls-184-b14'}).find_all('article')\n",
    "#columnas"
   ],
   "outputs": [],
   "metadata": {}
  },
  {
   "cell_type": "code",
   "execution_count": 33,
   "source": [
    "scrapping_opinion_columns = {\n",
    "    'titulos' : [columna.find('a', attrs = {'class': 'title page-link'}).get_text() for columna in columnas],\n",
    "    'autores' : [columna.find('a', attrs = {'class': 'author-name page-link'}).get_text() for columna in columnas],\n",
    "    'links' : [add_url(url,columna.find('a', attrs = {'class': 'title page-link'}).get('href')) for columna in columnas]\n",
    "}"
   ],
   "outputs": [],
   "metadata": {}
  },
  {
   "cell_type": "code",
   "execution_count": 34,
   "source": [
    "print(\"*\"*100,\"\\nSíntesis de Scrapping realizado a blogs en la sección Opinión\\n\",\"*\"*100,\"\\n\\n\")\n",
    "\n",
    "for idx,titulo in enumerate(scrapping_opinion_columns['titulos']):\n",
    "    print(f\"Columna de opinión N°{idx+1}. {titulo}.\\nAutor: {scrapping_opinion_columns['autores'][idx]}.\\nLink: {scrapping_opinion_columns['links'][idx]}\\n\")"
   ],
   "outputs": [
    {
     "output_type": "stream",
     "name": "stdout",
     "text": [
      "**************************************************************************************************** \n",
      "Síntesis de Scrapping realizado a blogs en la sección Opinión\n",
      " **************************************************************************************************** \n",
      "\n",
      "\n",
      "Columna de opinión N°1. Señoras y señores.\n",
      "Autor: Juan Esteban Constaín.\n",
      "Link: https://www.eltiempo.com/opinion/columnistas/juan-esteban-constain/senoras-y-senores-columna-de-juan-esteban-constain-608393\n",
      "\n",
      "Columna de opinión N°2. ¿Estado social de derecho?.\n",
      "Autor: Pedro Medellin.\n",
      "Link: https://www.eltiempo.com/opinion/columnistas/pedro-medellin/estado-social-de-derecho-columna-de-pedro-medellin-608391\n",
      "\n",
      "Columna de opinión N°3. Preguntas para la Conferencia Episcopal.\n",
      "Autor: Claudia Palacios.\n",
      "Link: https://www.eltiempo.com/opinion/columnistas/claudia-palacios/preguntas-para-la-conferencia-episcopal-columna-de-claudia-palacios-608389\n",
      "\n",
      "Columna de opinión N°4. La lágrima fácil.\n",
      "Autor: Sergio Ramírez.\n",
      "Link: https://www.eltiempo.com/opinion/columnistas/sergio-ramirez/la-lagrima-facil-columna-de-sergio-ramirez-608390\n",
      "\n",
      "Columna de opinión N°5. Construir vivienda.\n",
      "Autor: Sandra Forero Ramirez.\n",
      "Link: https://www.eltiempo.com/opinion/columnistas/sandra-forero-ramirez/construir-vivienda-columna-de-sandra-forero-ramirez-608387\n",
      "\n",
      "Columna de opinión N°6. El baile de los que no sobran.\n",
      "Autor: María A. García de la Torre.\n",
      "Link: https://www.eltiempo.com/opinion/columnistas/maria-a-garcia-de-la-torre/el-baile-de-los-que-no-sobran-columna-de-maria-a-garcia-de-la-torre-608369\n",
      "\n",
      "Columna de opinión N°7. Impopular opinión.\n",
      "Autor: Elly Hernández.\n",
      "Link: https://www.eltiempo.com/opinion/columnistas/elly-hernandez/impopular-opinion-columna-de-elly-hernandez-608394\n",
      "\n"
     ]
    }
   ],
   "metadata": {
    "scrolled": true
   }
  },
  {
   "cell_type": "markdown",
   "source": [
    "## Síntesis de Scrapping de la sección de opinión (COLUMNAS)"
   ],
   "metadata": {}
  },
  {
   "cell_type": "code",
   "execution_count": 35,
   "source": [
    "blogs = s_seccion.find('div', attrs={'class': 'opinion-board opinion-blogs-board'}).find_all('article')\n",
    "#blogs\n",
    "#Blogs capturados"
   ],
   "outputs": [],
   "metadata": {}
  },
  {
   "cell_type": "code",
   "execution_count": 36,
   "source": [
    "scrapping_blogs = {\n",
    "    'titulos' : [blog.find('h3', attrs = {'class': 'title-container'}).get_text()[1:] for blog in blogs],\n",
    "    'autores' : [blog.find('span', attrs = {'class' : 'author-name'}).get_text() for blog in blogs],\n",
    "    'links' : [blog.find('a', attrs = {'class' : 'title page-link'}).get('href') for blog in blogs]\n",
    "}"
   ],
   "outputs": [],
   "metadata": {}
  },
  {
   "cell_type": "markdown",
   "source": [
    "## Síntesis de Scrapping de la sección de opinión (BLOGS)"
   ],
   "metadata": {}
  },
  {
   "cell_type": "code",
   "execution_count": 37,
   "source": [
    "print(\"*\"*100,\"\\nSíntesis de Scrapping realizado a blogs en la sección Opinión\\n\",\"*\"*100,\"\\n\\n\")\n",
    "\n",
    "for idx,titulo in enumerate(scrapping_blogs['titulos']):\n",
    "    print(f\"Columna de opinión N°{idx+1}. {titulo}.\\nAutor: {scrapping_blogs['autores'][idx]}.\\nLink: {scrapping_blogs['links'][idx]}\\n\")"
   ],
   "outputs": [
    {
     "output_type": "stream",
     "name": "stdout",
     "text": [
      "**************************************************************************************************** \n",
      "Síntesis de Scrapping realizado a blogs en la sección Opinión\n",
      " **************************************************************************************************** \n",
      "\n",
      "\n",
      "Columna de opinión N°1. [PODCAST] felicidad Organizacional #125.\n",
      "Autor: Santiago Ríos.\n",
      "Link: https://blogs.eltiempo.com/mil-palabras/2021/07/27/podcast-felicidad-organizacional-125/\n",
      "\n",
      "Columna de opinión N°2. La bandera es una sola y es de todos los colombianos.\n",
      "Autor: Fabio Cuello.\n",
      "Link: https://blogs.eltiempo.com/el-observador-pensante/2021/07/27/la-bandera-es-una-sola-y-es-de-todos-los-colombianos/\n",
      "\n",
      "Columna de opinión N°3. La inevitable victoria de los talibanes en Afganistán.\n",
      "Autor: Mauricio Jaramillo Jassir.\n",
      "Link: https://blogs.eltiempo.com/geopolitica-poder-y-democracia/2021/07/27/la-inevitable-victoria-de-los-talibanes-en-afganistan/\n",
      "\n",
      "Columna de opinión N°4. Marketing de las abuelas.\n",
      "Autor: Fabián Salazar.\n",
      "Link: https://blogs.eltiempo.com/dialogos-espirituales/2021/07/27/marketing-de-las-abuelas/\n",
      "\n",
      "Columna de opinión N°5. La fuerza del humor.\n",
      "Autor: Hugoleonrojito.\n",
      "Link: https://blogs.eltiempo.com/para-donde-va/2021/07/27/la-fuerza-del-humor/\n",
      "\n",
      "Columna de opinión N°6. Explosión de democracia.\n",
      "Autor: Mauricio Liévano.\n",
      "Link: https://blogs.eltiempo.com/suave-y-profundo/2021/07/27/explosion-de-democracia/\n",
      "\n",
      "Columna de opinión N°7. Hacia la segunda independencia.\n",
      "Autor: Juan Carlos Martínez.\n",
      "Link: https://blogs.eltiempo.com/digital-jumper/2021/07/27/hacia-la-segunda-independencia/\n",
      "\n",
      "Columna de opinión N°8. Consejos para contratar el mejor seguro de auto.\n",
      "Autor: Luis Hernández.\n",
      "Link: https://blogs.eltiempo.com/palabreando/2021/07/27/consejos-para-contratar-el-mejor-seguro-de-auto/\n",
      "\n",
      "Columna de opinión N°9. El 20 de julio y otras medias verdades.\n",
      "Autor: Mariana Arteaga Guerra.\n",
      "Link: https://blogs.eltiempo.com/historiarte/2021/07/27/el-20-de-julio-y-otras-medias-verdades/\n",
      "\n"
     ]
    }
   ],
   "metadata": {}
  },
  {
   "cell_type": "code",
   "execution_count": 38,
   "source": [
    "url_columna = scrapping_opinion_columns['links'][0]\n",
    "url_columna"
   ],
   "outputs": [
    {
     "output_type": "execute_result",
     "data": {
      "text/plain": [
       "'https://www.eltiempo.com/opinion/columnistas/juan-esteban-constain/senoras-y-senores-columna-de-juan-esteban-constain-608393'"
      ]
     },
     "metadata": {},
     "execution_count": 38
    }
   ],
   "metadata": {}
  },
  {
   "cell_type": "code",
   "execution_count": 39,
   "source": [
    "try:\n",
    "    response_columna = requests.get(url_columna)\n",
    "    if response_columna.status_code == 200:\n",
    "        soup_columna = BeautifulSoup(response_columna.text, 'lxml')\n",
    "        encabezado = soup_columna.find('div', attrs = {'class':'intro-content'})\n",
    "        \n",
    "        #Info Columna:\n",
    "        titulo_columna = encabezado.h1.get_text()\n",
    "        epigrafo_columna = encabezado.p.get_text()\n",
    "        fecha_publicacion = soup_columna.find('div', attrs = {'class':'fecha-publicacion-bk'}).span.get_text()[1:-1]\n",
    "        \n",
    "        #Info autor:\n",
    "        autor = encabezado.find('a', attrs = {'class' : 'autor-name'})\n",
    "        nombre_autor = encabezado.find('div', attrs = {'class' : 'author-details'}).find('a', attrs = {'class' : 'author-name'}).get_text()\n",
    "        twitter_autor = encabezado.find('div', attrs = {'class' : 'author-details'}).find('a', attrs = {'class' : 'author-twitter'}).get('href')\n",
    "        foto_autor = add_url(url, soup_columna.find('div', attrs = {'class': 'author-image-container'}).img.get('data-original'))\n",
    "        \n",
    "        \n",
    "        print(f'Título columna: {titulo_columna}')\n",
    "        print(f'Publicada el: {fecha_publicacion}')\n",
    "        print(f'Epigrafo:\\n{epigrafo_columna}\\n')\n",
    "        print(f'Autor: {nombre_autor}')\n",
    "        print(f'Twitter: {twitter_autor}')\n",
    "        print('Foto:')\n",
    "        \n",
    "        \n",
    "except Exception as e:\n",
    "    print('Error: ', e, '\\n')"
   ],
   "outputs": [
    {
     "output_type": "stream",
     "name": "stdout",
     "text": [
      "Título columna: Señoras y señores\n",
      "Publicada el: 04 de agosto 2021 , 08:03 p. m.\n",
      "Epigrafo:\n",
      "Esa es la edad de quiebre, sin duda, los 40 años. Ese día dejamos de ser jóvenes para siempre.\n",
      "\n",
      "Autor: Juan Esteban Constaín\n",
      "Twitter: https://twitter.com/Aulogelio\n",
      "Foto:\n"
     ]
    }
   ],
   "metadata": {}
  },
  {
   "cell_type": "code",
   "execution_count": 40,
   "source": [
    "Image(foto_autor)"
   ],
   "outputs": [
    {
     "output_type": "execute_result",
     "data": {
      "text/plain": [
       "<IPython.core.display.Image object>"
      ],
      "image/jpeg": "[encoded data removed]"
     },
     "metadata": {},
     "execution_count": 40
    }
   ],
   "metadata": {}
  },
  {
   "cell_type": "markdown",
   "source": [
    "# Unificando el Scrapper en una función única:"
   ],
   "metadata": {}
  },
  {
   "cell_type": "code",
   "execution_count": 41,
   "source": [
    "def obtener_datos_columna(soup_columna):\n",
    "    scrapping = {}\n",
    "    encabezado = soup_columna.find('div', attrs = {'class':'intro-content'})\n",
    "        \n",
    "    #Info Columna:\n",
    "    #Extraccion titulo\n",
    "    titulo_encabezado = encabezado.h1\n",
    "    if titulo_encabezado:\n",
    "        scrapping['titulo_columna'] = titulo_encabezado.get_text()\n",
    "    else:\n",
    "        scrapping['titulo_columna'] = None\n",
    "    \n",
    "    #Extracción epigrafo\n",
    "    epigrafo_columna = encabezado.p\n",
    "    if epigrafo_columna:\n",
    "        scrapping['epigrafo_columna'] = epigrafo_columna.get_text()\n",
    "    else:\n",
    "        scrapping['epigrafo_columna'] = None\n",
    "    \n",
    "    #Extracción fecha publicación\n",
    "    fecha_publicacion = soup_columna.find('div', attrs = {'class':'fecha-publicacion-bk'}).span\n",
    "    if fecha_publicacion:\n",
    "        scrapping['fecha_publicacion'] = fecha_publicacion.get_text()[1:-1]\n",
    "    else:\n",
    "        scrapping['fecha_publicacion'] = None\n",
    "        \n",
    "    #Info autor:\n",
    "        nombre_autor = encabezado.find('div', attrs = {'class' : 'author-details'}).find('a', attrs = {'class' : 'author-name'}).get_text()\n",
    "        twitter_autor = encabezado.find('div', attrs = {'class' : 'author-details'}).find('a', attrs = {'class' : 'author-twitter'}).get('href')\n",
    "        foto_autor = add_url(url, soup_columna.find('div', attrs = {'class': 'author-image-container'}).img.get('data-original'))\n",
    "        \n",
    "    #Extraer info autor:\n",
    "    \n",
    "    info_autor = encabezado.find('div', attrs = {'class' : 'author-details'})\n",
    "    if info_autor:\n",
    "        nombre_autor = info_autor.find('a', attrs = {'class' : 'author-name'})\n",
    "        twitter_autor = info_autor.find('a', attrs = {'class' : 'author-twitter'})\n",
    "        if nombre_autor:\n",
    "            scrapping['nombre_autor'] = nombre_autor.get_text()\n",
    "        else:\n",
    "            scrapping['nombre_autor'] = None\n",
    "        \n",
    "        if twitter_autor:\n",
    "            scrapping['twitter_autor'] = twitter_autor.get_text()\n",
    "        else:\n",
    "            scrapping['twitter_autor'] = None\n",
    "            \n",
    "    #Extraer foto autor:\n",
    "    foto_autor = soup_columna.find('div', attrs = {'class': 'author-image-container'}).img\n",
    "    if foto_autor:\n",
    "        scrapping['foto_autor'] = add_url(url, foto_autor.get('data-original'))\n",
    "    else:\n",
    "        scrapping['foto_autor'] = None\n",
    "        \n",
    "    return scrapping"
   ],
   "outputs": [],
   "metadata": {}
  },
  {
   "cell_type": "code",
   "execution_count": 42,
   "source": [
    "def scrape_columna(url):\n",
    "    try:\n",
    "        columna = requests.get(url)\n",
    "    except Exception as e:\n",
    "        print(f'Error Scrapping URL: {url}')\n",
    "        print(e)\n",
    "        return None\n",
    "    if columna.status_code != 200:\n",
    "        print(f'Error obteniendo columna {url}')\n",
    "        print(f'Status code = {columna.status_code}')\n",
    "        return None\n",
    "    s_columna = BeautifulSoup(columna.text, 'lxml')\n",
    "    scrape = obtener_datos_columna(s_columna)\n",
    "    scrape['url'] = url\n",
    "    return scrape"
   ],
   "outputs": [],
   "metadata": {}
  },
  {
   "cell_type": "code",
   "execution_count": 43,
   "source": [
    "scrape_columna(url_columna)"
   ],
   "outputs": [
    {
     "output_type": "execute_result",
     "data": {
      "text/plain": [
       "{'titulo_columna': 'Señoras y señores',\n",
       " 'epigrafo_columna': 'Esa es la edad de quiebre, sin duda, los 40 años. Ese día dejamos de ser jóvenes para siempre.',\n",
       " 'fecha_publicacion': '04 de agosto 2021 , 08:03 p. m.',\n",
       " 'nombre_autor': 'Juan Esteban Constaín',\n",
       " 'twitter_autor': '@Aulogelio',\n",
       " 'foto_autor': 'https://www.eltiempo.com/files/image_180_180/uploads/2021/04/07/606e452229735.jpeg',\n",
       " 'url': 'https://www.eltiempo.com/opinion/columnistas/juan-esteban-constain/senoras-y-senores-columna-de-juan-esteban-constain-608393'}"
      ]
     },
     "metadata": {},
     "execution_count": 43
    }
   ],
   "metadata": {}
  },
  {
   "cell_type": "markdown",
   "source": [
    "### Reto: Scrapping a los links de las columnas de opinion"
   ],
   "metadata": {}
  },
  {
   "cell_type": "code",
   "execution_count": 44,
   "source": [
    "scrapping_blogs['links']"
   ],
   "outputs": [
    {
     "output_type": "execute_result",
     "data": {
      "text/plain": [
       "['https://blogs.eltiempo.com/mil-palabras/2021/07/27/podcast-felicidad-organizacional-125/',\n",
       " 'https://blogs.eltiempo.com/el-observador-pensante/2021/07/27/la-bandera-es-una-sola-y-es-de-todos-los-colombianos/',\n",
       " 'https://blogs.eltiempo.com/geopolitica-poder-y-democracia/2021/07/27/la-inevitable-victoria-de-los-talibanes-en-afganistan/',\n",
       " 'https://blogs.eltiempo.com/dialogos-espirituales/2021/07/27/marketing-de-las-abuelas/',\n",
       " 'https://blogs.eltiempo.com/para-donde-va/2021/07/27/la-fuerza-del-humor/',\n",
       " 'https://blogs.eltiempo.com/suave-y-profundo/2021/07/27/explosion-de-democracia/',\n",
       " 'https://blogs.eltiempo.com/digital-jumper/2021/07/27/hacia-la-segunda-independencia/',\n",
       " 'https://blogs.eltiempo.com/palabreando/2021/07/27/consejos-para-contratar-el-mejor-seguro-de-auto/',\n",
       " 'https://blogs.eltiempo.com/historiarte/2021/07/27/el-20-de-julio-y-otras-medias-verdades/']"
      ]
     },
     "metadata": {},
     "execution_count": 44
    }
   ],
   "metadata": {}
  },
  {
   "cell_type": "code",
   "execution_count": 45,
   "source": [
    "data = []\n",
    "lista = scrapping_opinion_columns['links']\n",
    "for idx, link in enumerate(scrapping_opinion_columns['links']):\n",
    "    try:\n",
    "        r = requests.get(link)\n",
    "        if r.status_code == 200:\n",
    "            print(f'Scrapping la columna de opinion {idx+1}/{len(lista)}')\n",
    "            data.append(scrape_columna(link))\n",
    "    except Exception as e:\n",
    "        print(f'Error scrapping: {e}')"
   ],
   "outputs": [
    {
     "output_type": "stream",
     "name": "stdout",
     "text": [
      "Scrapping la columna de opinion 1/7\n",
      "Scrapping la columna de opinion 2/7\n",
      "Scrapping la columna de opinion 3/7\n",
      "Scrapping la columna de opinion 4/7\n",
      "Scrapping la columna de opinion 5/7\n",
      "Scrapping la columna de opinion 6/7\n",
      "Scrapping la columna de opinion 7/7\n"
     ]
    }
   ],
   "metadata": {}
  },
  {
   "cell_type": "markdown",
   "source": [
    "### Finalizamos generando un dataframe con la información extraida"
   ],
   "metadata": {}
  },
  {
   "cell_type": "code",
   "execution_count": 46,
   "source": [
    "import pandas as pd"
   ],
   "outputs": [],
   "metadata": {}
  },
  {
   "cell_type": "code",
   "execution_count": 47,
   "source": [
    "df = pd.DataFrame(data)"
   ],
   "outputs": [],
   "metadata": {}
  },
  {
   "cell_type": "code",
   "execution_count": 48,
   "source": [
    "df"
   ],
   "outputs": [
    {
     "output_type": "execute_result",
     "data": {
      "text/plain": [
       "                            titulo_columna  \\\n",
       "0                        Señoras y señores   \n",
       "1               ¿Estado social de derecho?   \n",
       "2  Preguntas para la Conferencia Episcopal   \n",
       "3                         La lágrima fácil   \n",
       "4                       Construir vivienda   \n",
       "5            El baile de los que no sobran   \n",
       "6                        Impopular opinión   \n",
       "\n",
       "                                    epigrafo_columna  \\\n",
       "0  Esa es la edad de quiebre, sin duda, los 40 añ...   \n",
       "1  Colombia no es un país que se caracterice por ...   \n",
       "2  ¿La negación de la autonomía como poder sobera...   \n",
       "3  Cien años de soledad no tiene, de verdad, como...   \n",
       "4  Tenemos certeza de que avanzaremos hacia la co...   \n",
       "5  Debemos escuchar a los jóvenes, respetar sus o...   \n",
       "6  Si bien es cierto que no puedo negar su logro,...   \n",
       "\n",
       "                 fecha_publicacion                 nombre_autor  \\\n",
       "0  04 de agosto 2021 , 08:03 p. m.        Juan Esteban Constaín   \n",
       "1  04 de agosto 2021 , 08:03 p. m.               Pedro Medellin   \n",
       "2  04 de agosto 2021 , 08:00 p. m.             Claudia Palacios   \n",
       "3  04 de agosto 2021 , 08:00 p. m.               Sergio Ramírez   \n",
       "4  04 de agosto 2021 , 08:00 p. m.        Sandra Forero Ramirez   \n",
       "5  04 de agosto 2021 , 08:00 p. m.  María A. García de la Torre   \n",
       "6  04 de agosto 2021 , 08:00 p. m.               Elly Hernández   \n",
       "\n",
       "      twitter_autor                                         foto_autor  \\\n",
       "0        @Aulogelio  https://www.eltiempo.com/files/image_180_180/u...   \n",
       "1              None  https://www.eltiempo.com/files/image_180_180/u...   \n",
       "2  @claudiapalacios  https://www.eltiempo.com/files/image_180_180/u...   \n",
       "3   @sergioramirezm  https://www.eltiempo.com/files/image_180_180/u...   \n",
       "4              None  https://www.eltiempo.com/files/image_180_180/u...   \n",
       "5   @Caidadelatorre  https://www.eltiempo.com/files/image_180_180/u...   \n",
       "6              None  https://www.eltiempo.com/files/image_180_180/u...   \n",
       "\n",
       "                                                 url  \n",
       "0  https://www.eltiempo.com/opinion/columnistas/j...  \n",
       "1  https://www.eltiempo.com/opinion/columnistas/p...  \n",
       "2  https://www.eltiempo.com/opinion/columnistas/c...  \n",
       "3  https://www.eltiempo.com/opinion/columnistas/s...  \n",
       "4  https://www.eltiempo.com/opinion/columnistas/s...  \n",
       "5  https://www.eltiempo.com/opinion/columnistas/m...  \n",
       "6  https://www.eltiempo.com/opinion/columnistas/e...  "
      ],
      "text/html": [
       "<div>\n",
       "<style scoped>\n",
       "    .dataframe tbody tr th:only-of-type {\n",
       "        vertical-align: middle;\n",
       "    }\n",
       "\n",
       "    .dataframe tbody tr th {\n",
       "        vertical-align: top;\n",
       "    }\n",
       "\n",
       "    .dataframe thead th {\n",
       "        text-align: right;\n",
       "    }\n",
       "</style>\n",
       "<table border=\"1\" class=\"dataframe\">\n",
       "  <thead>\n",
       "    <tr style=\"text-align: right;\">\n",
       "      <th></th>\n",
       "      <th>titulo_columna</th>\n",
       "      <th>epigrafo_columna</th>\n",
       "      <th>fecha_publicacion</th>\n",
       "      <th>nombre_autor</th>\n",
       "      <th>twitter_autor</th>\n",
       "      <th>foto_autor</th>\n",
       "      <th>url</th>\n",
       "    </tr>\n",
       "  </thead>\n",
       "  <tbody>\n",
       "    <tr>\n",
       "      <th>0</th>\n",
       "      <td>Señoras y señores</td>\n",
       "      <td>Esa es la edad de quiebre, sin duda, los 40 añ...</td>\n",
       "      <td>04 de agosto 2021 , 08:03 p. m.</td>\n",
       "      <td>Juan Esteban Constaín</td>\n",
       "      <td>@Aulogelio</td>\n",
       "      <td>https://www.eltiempo.com/files/image_180_180/u...</td>\n",
       "      <td>https://www.eltiempo.com/opinion/columnistas/j...</td>\n",
       "    </tr>\n",
       "    <tr>\n",
       "      <th>1</th>\n",
       "      <td>¿Estado social de derecho?</td>\n",
       "      <td>Colombia no es un país que se caracterice por ...</td>\n",
       "      <td>04 de agosto 2021 , 08:03 p. m.</td>\n",
       "      <td>Pedro Medellin</td>\n",
       "      <td>None</td>\n",
       "      <td>https://www.eltiempo.com/files/image_180_180/u...</td>\n",
       "      <td>https://www.eltiempo.com/opinion/columnistas/p...</td>\n",
       "    </tr>\n",
       "    <tr>\n",
       "      <th>2</th>\n",
       "      <td>Preguntas para la Conferencia Episcopal</td>\n",
       "      <td>¿La negación de la autonomía como poder sobera...</td>\n",
       "      <td>04 de agosto 2021 , 08:00 p. m.</td>\n",
       "      <td>Claudia Palacios</td>\n",
       "      <td>@claudiapalacios</td>\n",
       "      <td>https://www.eltiempo.com/files/image_180_180/u...</td>\n",
       "      <td>https://www.eltiempo.com/opinion/columnistas/c...</td>\n",
       "    </tr>\n",
       "    <tr>\n",
       "      <th>3</th>\n",
       "      <td>La lágrima fácil</td>\n",
       "      <td>Cien años de soledad no tiene, de verdad, como...</td>\n",
       "      <td>04 de agosto 2021 , 08:00 p. m.</td>\n",
       "      <td>Sergio Ramírez</td>\n",
       "      <td>@sergioramirezm</td>\n",
       "      <td>https://www.eltiempo.com/files/image_180_180/u...</td>\n",
       "      <td>https://www.eltiempo.com/opinion/columnistas/s...</td>\n",
       "    </tr>\n",
       "    <tr>\n",
       "      <th>4</th>\n",
       "      <td>Construir vivienda</td>\n",
       "      <td>Tenemos certeza de que avanzaremos hacia la co...</td>\n",
       "      <td>04 de agosto 2021 , 08:00 p. m.</td>\n",
       "      <td>Sandra Forero Ramirez</td>\n",
       "      <td>None</td>\n",
       "      <td>https://www.eltiempo.com/files/image_180_180/u...</td>\n",
       "      <td>https://www.eltiempo.com/opinion/columnistas/s...</td>\n",
       "    </tr>\n",
       "    <tr>\n",
       "      <th>5</th>\n",
       "      <td>El baile de los que no sobran</td>\n",
       "      <td>Debemos escuchar a los jóvenes, respetar sus o...</td>\n",
       "      <td>04 de agosto 2021 , 08:00 p. m.</td>\n",
       "      <td>María A. García de la Torre</td>\n",
       "      <td>@Caidadelatorre</td>\n",
       "      <td>https://www.eltiempo.com/files/image_180_180/u...</td>\n",
       "      <td>https://www.eltiempo.com/opinion/columnistas/m...</td>\n",
       "    </tr>\n",
       "    <tr>\n",
       "      <th>6</th>\n",
       "      <td>Impopular opinión</td>\n",
       "      <td>Si bien es cierto que no puedo negar su logro,...</td>\n",
       "      <td>04 de agosto 2021 , 08:00 p. m.</td>\n",
       "      <td>Elly Hernández</td>\n",
       "      <td>None</td>\n",
       "      <td>https://www.eltiempo.com/files/image_180_180/u...</td>\n",
       "      <td>https://www.eltiempo.com/opinion/columnistas/e...</td>\n",
       "    </tr>\n",
       "  </tbody>\n",
       "</table>\n",
       "</div>"
      ]
     },
     "metadata": {},
     "execution_count": 48
    }
   ],
   "metadata": {
    "scrolled": true
   }
  },
  {
   "cell_type": "code",
   "execution_count": 49,
   "source": [
    "from datetime import datetime"
   ],
   "outputs": [],
   "metadata": {}
  },
  {
   "cell_type": "code",
   "execution_count": 50,
   "source": [
    "df.to_csv('./data/Columnas_opinion_ELTIEMPO_'+datetime.today().strftime(\"%b_%d_%Y\"+\".csv\"))"
   ],
   "outputs": [],
   "metadata": {}
  },
  {
   "cell_type": "code",
   "execution_count": null,
   "source": [],
   "outputs": [],
   "metadata": {}
  }
 ],
 "metadata": {
  "kernelspec": {
   "name": "python3",
   "display_name": "Python 3.8.8 64-bit ('base': conda)"
  },
  "language_info": {
   "codemirror_mode": {
    "name": "ipython",
    "version": 3
   },
   "file_extension": ".py",
   "mimetype": "text/x-python",
   "name": "python",
   "nbconvert_exporter": "python",
   "pygments_lexer": "ipython3",
   "version": "3.8.8"
  },
  "interpreter": {
   "hash": "20f686af2b8543278885fb4bfbde836d337e88a2d9dd0085651dc699d9aa42d5"
  }
 },
 "nbformat": 4,
 "nbformat_minor": 2
}