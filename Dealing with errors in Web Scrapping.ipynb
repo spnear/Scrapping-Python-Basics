{
 "cells": [
  {
   "cell_type": "code",
   "execution_count": 1,
   "id": "0bdf93de",
   "metadata": {},
   "outputs": [],
   "source": [
    "from bs4 import BeautifulSoup\n",
    "import requests"
   ]
  },
  {
   "cell_type": "code",
   "execution_count": 2,
   "id": "503436f6",
   "metadata": {},
   "outputs": [],
   "source": [
    "url = 'https://www.eltiempo.com/'"
   ]
  },
  {
   "cell_type": "code",
   "execution_count": 3,
   "id": "38c3af6d",
   "metadata": {},
   "outputs": [],
   "source": [
    "response = requests.get(url)"
   ]
  },
  {
   "cell_type": "code",
   "execution_count": 5,
   "id": "1f5a9c5e",
   "metadata": {},
   "outputs": [
    {
     "data": {
      "text/plain": [
       "200"
      ]
     },
     "execution_count": 5,
     "metadata": {},
     "output_type": "execute_result"
    }
   ],
   "source": [
    "response.status_code"
   ]
  },
  {
   "cell_type": "code",
   "execution_count": 6,
   "id": "13b84d3e",
   "metadata": {},
   "outputs": [],
   "source": [
    "if response.status_code == 200:\n",
    "    #Continuaría el Scrapping\n",
    "    pass\n",
    "else:\n",
    "    #Informamos el error\n",
    "    pass"
   ]
  },
  {
   "cell_type": "code",
   "execution_count": 9,
   "id": "3def8bbb",
   "metadata": {},
   "outputs": [
    {
     "name": "stdout",
     "output_type": "stream",
     "text": [
      "Error en request:  HTTPSConnectionPool(host='www.altiampo.com', port=443): Max retries exceeded with url: / (Caused by NewConnectionError('<urllib3.connection.HTTPSConnection object at 0x7f0250022550>: Failed to establish a new connection: [Errno -2] Name or service not known')) \n",
      "\n"
     ]
    }
   ],
   "source": [
    "try:\n",
    "    requests.get(url.replace('e','a'))\n",
    "except Exception as e:\n",
    "    print('Error en request: ', e, '\\n')"
   ]
  },
  {
   "cell_type": "code",
   "execution_count": null,
   "id": "83226c62",
   "metadata": {},
   "outputs": [],
   "source": []
  }
 ],
 "metadata": {
  "kernelspec": {
   "display_name": "Python 3",
   "language": "python",
   "name": "python3"
  },
  "language_info": {
   "codemirror_mode": {
    "name": "ipython",
    "version": 3
   },
   "file_extension": ".py",
   "mimetype": "text/x-python",
   "name": "python",
   "nbconvert_exporter": "python",
   "pygments_lexer": "ipython3",
   "version": "3.8.8"
  }
 },
 "nbformat": 4,
 "nbformat_minor": 5
}
