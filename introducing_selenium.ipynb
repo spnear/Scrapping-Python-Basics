{
 "cells": [
  {
   "cell_type": "code",
   "execution_count": 1,
   "metadata": {},
   "outputs": [],
   "source": [
    "import requests\n",
    "from bs4 import BeautifulSoup"
   ]
  },
  {
   "cell_type": "code",
   "execution_count": 2,
   "metadata": {},
   "outputs": [],
   "source": [
    "url = f'https://www.latamairlines.com/co/es/ofertas-vuelos?dataFlight=%7B%22tripTypeSelected%22%3A%7B%22label%22%3A%22Ida+y+Vuelta%22%2C%22value%22%3A%22RT%22%7D%2C%22cabinSelected%22%3A%7B%22label%22%3A%22Economy%22%2C%22value%22%3A%22Economy%22%7D%2C%22passengerSelected%22%3A%7B%22adultQuantity%22%3A1%2C%22childrenQuantity%22%3A0%2C%22infantQuantity%22%3A0%7D%2C%22originSelected%22%3A%7B%22id%22%3A%22BOG_CO_AIRPORT%22%2C%22name%22%3A%22El+Dorado+Intl.%22%2C%22city%22%3A%22Bogot%C3%A1%22%2C%22cityIsoCode%22%3A%22BOG%22%2C%22country%22%3A%22Colombia%22%2C%22iata%22%3A%22BOG%22%2C%22latitude%22%3A4.70159%2C%22longitude%22%3A-74.1469%2C%22timezone%22%3A-5%2C%22tz%22%3A%22America%2FBogota%22%2C%22type%22%3A%22AIRPORT%22%2C%22countryAlpha2%22%3A%22CO%22%2C%22allAirportsText%22%3Anull%2C%22airportIataCode%22%3A%22BOG%22%7D%2C%22destinationSelected%22%3A%7B%22id%22%3A%22MDE_CO_AIRPORT%22%2C%22name%22%3A%22Jose+Maria+Cordova%22%2C%22city%22%3A%22Medell%C3%ADn%22%2C%22cityIsoCode%22%3A%22MDE%22%2C%22country%22%3A%22Colombia%22%2C%22iata%22%3A%22MDE%22%2C%22latitude%22%3A6.16454%2C%22longitude%22%3A-75.4231%2C%22timezone%22%3A-5%2C%22tz%22%3A%22America%2FBogota%22%2C%22type%22%3A%22AIRPORT%22%2C%22countryAlpha2%22%3A%22CO%22%2C%22allAirportsText%22%3Anull%2C%22airportIataCode%22%3A%22MDE%22%7D%2C%22dateGoSelected%22%3A%222021-08-16T17%3A00%3A00.000Z%22%2C%22dateReturnSelected%22%3A%222021-08-21T17%3A00%3A00.000Z%22%2C%22redemption%22%3Afalse%7D'"
   ]
  },
  {
   "cell_type": "code",
   "execution_count": 3,
   "metadata": {},
   "outputs": [
    {
     "data": {
      "text/plain": [
       "200"
      ]
     },
     "execution_count": 3,
     "metadata": {},
     "output_type": "execute_result"
    }
   ],
   "source": [
    "r = requests.get(url)\n",
    "r.status_code"
   ]
  },
  {
   "cell_type": "code",
   "execution_count": 4,
   "metadata": {},
   "outputs": [],
   "source": [
    "s = BeautifulSoup(r.text, 'lxml')"
   ]
  },
  {
   "cell_type": "code",
   "execution_count": 5,
   "metadata": {},
   "outputs": [],
   "source": [
    "#print(s.prettify())"
   ]
  },
  {
   "cell_type": "markdown",
   "metadata": {},
   "source": [
    "# Instanciando web driver para manipular con Selenium"
   ]
  },
  {
   "cell_type": "code",
   "execution_count": 6,
   "metadata": {},
   "outputs": [],
   "source": [
    "from selenium import webdriver"
   ]
  },
  {
   "cell_type": "code",
   "execution_count": 7,
   "metadata": {},
   "outputs": [],
   "source": [
    "path = '/usr/bin/chromedriver'"
   ]
  },
  {
   "cell_type": "code",
   "execution_count": 8,
   "metadata": {},
   "outputs": [],
   "source": [
    "\"\"\"\n",
    "options = webdriver.ChromeOptions()\n",
    "options.add_argument('--incognito')\n",
    "driver = webdriver.Chrome(executable_path = path, options=options)\n",
    "\"\"\"\n",
    "driver = webdriver.Chrome(executable_path=path)"
   ]
  },
  {
   "cell_type": "markdown",
   "metadata": {},
   "source": [
    "### Cargar webs con el driver"
   ]
  },
  {
   "cell_type": "code",
   "execution_count": 9,
   "metadata": {},
   "outputs": [],
   "source": [
    "driver.get(url)"
   ]
  },
  {
   "cell_type": "markdown",
   "metadata": {},
   "source": [
    "Aquí ya podríamos extraer información de la página"
   ]
  },
  {
   "cell_type": "code",
   "execution_count": 10,
   "metadata": {},
   "outputs": [
    {
     "data": {
      "text/plain": [
       "[<selenium.webdriver.remote.webelement.WebElement (session=\"ce34896c4784801721758417a79a90f4\", element=\"382d1112-a142-458d-acd9-df05afaa3140\")>,\n",
       " <selenium.webdriver.remote.webelement.WebElement (session=\"ce34896c4784801721758417a79a90f4\", element=\"5dd364d3-69cc-4c9a-a9b2-7fe4b714fc1a\")>,\n",
       " <selenium.webdriver.remote.webelement.WebElement (session=\"ce34896c4784801721758417a79a90f4\", element=\"15014a0b-eeaf-4b75-8e61-104e7df0f5ba\")>,\n",
       " <selenium.webdriver.remote.webelement.WebElement (session=\"ce34896c4784801721758417a79a90f4\", element=\"133cf88e-c8a7-45ee-b28b-fc40fe2101f7\")>,\n",
       " <selenium.webdriver.remote.webelement.WebElement (session=\"ce34896c4784801721758417a79a90f4\", element=\"fbe52e06-1706-4c5e-98f0-20b9a67a1e74\")>,\n",
       " <selenium.webdriver.remote.webelement.WebElement (session=\"ce34896c4784801721758417a79a90f4\", element=\"635d53f7-7770-4afe-9ba0-7474b09575cd\")>,\n",
       " <selenium.webdriver.remote.webelement.WebElement (session=\"ce34896c4784801721758417a79a90f4\", element=\"f202fccd-f382-44a0-9e3a-d0512258147b\")>,\n",
       " <selenium.webdriver.remote.webelement.WebElement (session=\"ce34896c4784801721758417a79a90f4\", element=\"47c2ed8d-be46-4aa3-9185-e9da878e681f\")>,\n",
       " <selenium.webdriver.remote.webelement.WebElement (session=\"ce34896c4784801721758417a79a90f4\", element=\"f0c9e2e7-8c99-4ffc-ba78-3f67dbf47ed3\")>,\n",
       " <selenium.webdriver.remote.webelement.WebElement (session=\"ce34896c4784801721758417a79a90f4\", element=\"b2a73fb2-b5f2-40b8-9d39-4c5fdc234fb1\")>]"
      ]
     },
     "execution_count": 10,
     "metadata": {},
     "output_type": "execute_result"
    }
   ],
   "source": [
    "vuelos = driver.find_elements_by_xpath('//li[@class=\"sc-jotlie gITKrb\"]')\n",
    "vuelos"
   ]
  },
  {
   "cell_type": "markdown",
   "metadata": {},
   "source": [
    "#### Explicación xpath:\n",
    "\n",
    "#### Introducimos:\n",
    "<ul>\n",
    "<ol><p>// -> Elementos en todo el arbol independiente de si son hijos directos o hijos de hijos</p></ol>\n",
    "<ol><p>li -> tag de html a buscar </p></ol>\n",
    "<ol><p>@class=\"\" -> Indicamos que atributo usamos para buscar este elemento </p></ol>\n",
    "</ul>"
   ]
  },
  {
   "cell_type": "code",
   "execution_count": 11,
   "metadata": {},
   "outputs": [],
   "source": [
    "vuelo = vuelos[0]"
   ]
  },
  {
   "cell_type": "code",
   "execution_count": 12,
   "metadata": {},
   "outputs": [
    {
     "data": {
      "text/plain": [
       "<selenium.webdriver.remote.webelement.WebElement (session=\"ce34896c4784801721758417a79a90f4\", element=\"382d1112-a142-458d-acd9-df05afaa3140\")>"
      ]
     },
     "execution_count": 12,
     "metadata": {},
     "output_type": "execute_result"
    }
   ],
   "source": [
    "vuelo"
   ]
  },
  {
   "cell_type": "code",
   "execution_count": 59,
   "metadata": {},
   "outputs": [
    {
     "data": {
      "text/plain": [
       "[<selenium.webdriver.remote.webelement.WebElement (session=\"ce34896c4784801721758417a79a90f4\", element=\"cb711349-3e38-41a6-b79d-1606ee3b4a1c\")>,\n",
       " <selenium.webdriver.remote.webelement.WebElement (session=\"ce34896c4784801721758417a79a90f4\", element=\"464e7f16-29ad-4344-b8d3-f79a6bceef91\")>]"
      ]
     },
     "execution_count": 59,
     "metadata": {},
     "output_type": "execute_result"
    }
   ],
   "source": [
    "vuelo_info = vuelo.find_elements_by_xpath('.//div[@class=\"sc-jhaWeW jCjnWv flight-information\"]')\n",
    "vuelo_info"
   ]
  },
  {
   "cell_type": "code",
   "execution_count": 76,
   "metadata": {},
   "outputs": [],
   "source": [
    "info_salida = vuelo_info[0]\n",
    "info_llegada = vuelo_info[1]\n",
    "\n",
    "xpath_hora = './/span[@class=\"sc-guztPN dFRJGh\"]'\n",
    "xpath_lugar = './/span[@class=\"sc-cFlXAS dTkFnd\"]'\n",
    "\n",
    "hora_salida = info_salida.find_element_by_xpath(xpath_hora).text\n",
    "hora_llegada = info_llegada.find_element_by_xpath(xpath_hora).text\n",
    "\n",
    "lugar_salida = info_salida.find_element_by_xpath(xpath_lugar).text\n",
    "lugar_llegada = info_llegada.find_element_by_xpath(xpath_lugar).text\n",
    "\n",
    "duracion_vuelo = vuelo.find_element_by_xpath('//div[@class=\"sc-jhaWeW jCjnWv flight-duration\"]').find_element_by_xpath('.//span[@class=\"sc-hcnlBt ZOLOQ\"]').text"
   ]
  },
  {
   "cell_type": "code",
   "execution_count": 78,
   "metadata": {},
   "outputs": [
    {
     "name": "stdout",
     "output_type": "stream",
     "text": [
      "Vuelo BOG-MDE\n",
      "Salida: 6:00 a. m. | Llegada:6:59 a. m. | Duración:0 h 59 min\n"
     ]
    }
   ],
   "source": [
    "print(f'Vuelo {lugar_salida}-{lugar_llegada}\\nSalida: {hora_salida} | Llegada:{hora_llegada} | Duración:{duracion_vuelo}')"
   ]
  },
  {
   "cell_type": "code",
   "execution_count": 17,
   "metadata": {},
   "outputs": [],
   "source": [
    "#driver.close("
   ]
  },
  {
   "cell_type": "code",
   "execution_count": null,
   "metadata": {},
   "outputs": [],
   "source": []
  }
 ],
 "metadata": {
  "interpreter": {
   "hash": "20f686af2b8543278885fb4bfbde836d337e88a2d9dd0085651dc699d9aa42d5"
  },
  "kernelspec": {
   "display_name": "Python 3",
   "language": "python",
   "name": "python3"
  },
  "language_info": {
   "codemirror_mode": {
    "name": "ipython",
    "version": 3
   },
   "file_extension": ".py",
   "mimetype": "text/x-python",
   "name": "python",
   "nbconvert_exporter": "python",
   "pygments_lexer": "ipython3",
   "version": "3.8.8"
  }
 },
 "nbformat": 4,
 "nbformat_minor": 2
}
