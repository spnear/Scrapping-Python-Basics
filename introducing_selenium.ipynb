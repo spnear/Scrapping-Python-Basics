{
 "cells": [
  {
   "cell_type": "code",
   "execution_count": 1,
   "metadata": {},
   "outputs": [],
   "source": [
    "import requests\n",
    "from bs4 import BeautifulSoup"
   ]
  },
  {
   "cell_type": "code",
   "execution_count": 2,
   "metadata": {},
   "outputs": [],
   "source": [
    "url = f'https://www.latamairlines.com/co/es/ofertas-vuelos?dataFlight=%7B%22tripTypeSelected%22%3A%7B%22label%22%3A%22Ida%20y%20Vuelta%22%2C%22value%22%3A%22RT%22%7D%2C%22cabinSelected%22%3A%7B%22label%22%3A%22Economy%22%2C%22value%22%3A%22Economy%22%7D%2C%22passengerSelected%22%3A%7B%22adultQuantity%22%3A1%2C%22childrenQuantity%22%3A0%2C%22infantQuantity%22%3A0%7D%2C%22originSelected%22%3A%7B%22id%22%3A%22BOG_CO_AIRPORT%22%2C%22name%22%3A%22El%20Dorado%20Intl.%22%2C%22city%22%3A%22Bogot%C3%A1%22%2C%22cityIsoCode%22%3A%22BOG%22%2C%22country%22%3A%22Colombia%22%2C%22iata%22%3A%22BOG%22%2C%22latitude%22%3A4.70159%2C%22longitude%22%3A-74.1469%2C%22timezone%22%3A-5%2C%22tz%22%3A%22America%2FBogota%22%2C%22type%22%3A%22AIRPORT%22%2C%22countryAlpha2%22%3A%22CO%22%2C%22allAirportsText%22%3Anull%2C%22airportIataCode%22%3A%22BOG%22%7D%2C%22destinationSelected%22%3A%7B%22id%22%3A%22CUZ_PE_AIRPORT%22%2C%22name%22%3A%22A.%20Velasco%20Astete%22%2C%22city%22%3A%22Cusco%22%2C%22cityIsoCode%22%3A%22CUZ%22%2C%22country%22%3A%22Per%C3%BA%22%2C%22iata%22%3A%22CUZ%22%2C%22latitude%22%3A-13.535699844400002%2C%22longitude%22%3A-71.9387969971%2C%22timezone%22%3A-5%2C%22tz%22%3A%22America%2FLima%22%2C%22type%22%3A%22AIRPORT%22%2C%22countryAlpha2%22%3A%22PE%22%2C%22allAirportsText%22%3Anull%2C%22airportIataCode%22%3A%22CUZ%22%7D%2C%22dateGoSelected%22%3A%222021-08-09T17%3A00%3A00.000Z%22%2C%22dateReturnSelected%22%3A%222021-08-14T17%3A00%3A00.000Z%22%2C%22redemption%22%3Afalse%7D&sort=PRICE%2Casc'\n",
    "#url = f'https://www.latamairlines.com/co/es/ofertas-vuelos?dataFlight=%7B%22tripTypeSelected%22%3A%7B%22label%22%3A%22Ida+y+Vuelta%22%2C%22value%22%3A%22RT%22%7D%2C%22cabinSelected%22%3A%7B%22label%22%3A%22Economy%22%2C%22value%22%3A%22Economy%22%7D%2C%22passengerSelected%22%3A%7B%22adultQuantity%22%3A1%2C%22childrenQuantity%22%3A0%2C%22infantQuantity%22%3A0%7D%2C%22originSelected%22%3A%7B%22id%22%3A%22BOG_CO_AIRPORT%22%2C%22name%22%3A%22El+Dorado+Intl.%22%2C%22city%22%3A%22Bogot%C3%A1%22%2C%22cityIsoCode%22%3A%22BOG%22%2C%22country%22%3A%22Colombia%22%2C%22iata%22%3A%22BOG%22%2C%22latitude%22%3A4.70159%2C%22longitude%22%3A-74.1469%2C%22timezone%22%3A-5%2C%22tz%22%3A%22America%2FBogota%22%2C%22type%22%3A%22AIRPORT%22%2C%22countryAlpha2%22%3A%22CO%22%2C%22allAirportsText%22%3Anull%2C%22airportIataCode%22%3A%22BOG%22%7D%2C%22destinationSelected%22%3A%7B%22id%22%3A%22MDE_CO_AIRPORT%22%2C%22name%22%3A%22Jose+Maria+Cordova%22%2C%22city%22%3A%22Medell%C3%ADn%22%2C%22cityIsoCode%22%3A%22MDE%22%2C%22country%22%3A%22Colombia%22%2C%22iata%22%3A%22MDE%22%2C%22latitude%22%3A6.16454%2C%22longitude%22%3A-75.4231%2C%22timezone%22%3A-5%2C%22tz%22%3A%22America%2FBogota%22%2C%22type%22%3A%22AIRPORT%22%2C%22countryAlpha2%22%3A%22CO%22%2C%22allAirportsText%22%3Anull%2C%22airportIataCode%22%3A%22MDE%22%7D%2C%22dateGoSelected%22%3A%222021-08-16T17%3A00%3A00.000Z%22%2C%22dateReturnSelected%22%3A%222021-08-21T17%3A00%3A00.000Z%22%2C%22redemption%22%3Afalse%7D'"
   ]
  },
  {
   "cell_type": "code",
   "execution_count": 3,
   "metadata": {},
   "outputs": [
    {
     "data": {
      "text/plain": [
       "200"
      ]
     },
     "execution_count": 3,
     "metadata": {},
     "output_type": "execute_result"
    }
   ],
   "source": [
    "r = requests.get(url)\n",
    "r.status_code"
   ]
  },
  {
   "cell_type": "code",
   "execution_count": 4,
   "metadata": {},
   "outputs": [],
   "source": [
    "s = BeautifulSoup(r.text, 'lxml')"
   ]
  },
  {
   "cell_type": "code",
   "execution_count": 5,
   "metadata": {},
   "outputs": [],
   "source": [
    "#print(s.prettify())"
   ]
  },
  {
   "cell_type": "markdown",
   "metadata": {},
   "source": [
    "# Instanciando web driver para manipular con Selenium"
   ]
  },
  {
   "cell_type": "code",
   "execution_count": 6,
   "metadata": {},
   "outputs": [],
   "source": [
    "from selenium import webdriver"
   ]
  },
  {
   "cell_type": "code",
   "execution_count": 7,
   "metadata": {},
   "outputs": [],
   "source": [
    "path = '/usr/bin/chromedriver'"
   ]
  },
  {
   "cell_type": "code",
   "execution_count": 8,
   "metadata": {},
   "outputs": [],
   "source": [
    "\"\"\"\n",
    "options = webdriver.ChromeOptions()\n",
    "options.add_argument('--incognito')\n",
    "driver = webdriver.Chrome(executable_path = path, options=options)\n",
    "\"\"\"\n",
    "driver = webdriver.Chrome(executable_path=path)"
   ]
  },
  {
   "cell_type": "markdown",
   "metadata": {},
   "source": [
    "### Cargar webs con el driver"
   ]
  },
  {
   "cell_type": "code",
   "execution_count": 9,
   "metadata": {},
   "outputs": [],
   "source": [
    "driver.get(url)"
   ]
  },
  {
   "cell_type": "markdown",
   "metadata": {},
   "source": [
    "Aquí ya podríamos extraer información de la página"
   ]
  },
  {
   "cell_type": "code",
   "execution_count": 12,
   "metadata": {},
   "outputs": [
    {
     "data": {
      "text/plain": [
       "[<selenium.webdriver.remote.webelement.WebElement (session=\"9ab26756484e4ffcf908cb8c92418b72\", element=\"38181bf1-647f-4143-b168-1d344137a4cd\")>,\n",
       " <selenium.webdriver.remote.webelement.WebElement (session=\"9ab26756484e4ffcf908cb8c92418b72\", element=\"7c821367-dbb4-4f5f-bf1f-8376a60054c7\")>,\n",
       " <selenium.webdriver.remote.webelement.WebElement (session=\"9ab26756484e4ffcf908cb8c92418b72\", element=\"46f28861-ddec-422c-8477-5059c1bbeae5\")>,\n",
       " <selenium.webdriver.remote.webelement.WebElement (session=\"9ab26756484e4ffcf908cb8c92418b72\", element=\"e841fbd8-5047-4585-9a76-20fffb8d5797\")>,\n",
       " <selenium.webdriver.remote.webelement.WebElement (session=\"9ab26756484e4ffcf908cb8c92418b72\", element=\"ead3800f-0959-4cd2-9e9c-84c21e15d0df\")>,\n",
       " <selenium.webdriver.remote.webelement.WebElement (session=\"9ab26756484e4ffcf908cb8c92418b72\", element=\"f76f74ef-27a6-4b81-a76a-845c5b1dea8a\")>,\n",
       " <selenium.webdriver.remote.webelement.WebElement (session=\"9ab26756484e4ffcf908cb8c92418b72\", element=\"a0967d5e-31ee-4053-ba99-1eba2d71b7c7\")>,\n",
       " <selenium.webdriver.remote.webelement.WebElement (session=\"9ab26756484e4ffcf908cb8c92418b72\", element=\"8da48130-d9d4-40af-bbd5-3100506d6730\")>,\n",
       " <selenium.webdriver.remote.webelement.WebElement (session=\"9ab26756484e4ffcf908cb8c92418b72\", element=\"405150b5-5e33-4fc3-9c3d-c4caaa55a441\")>,\n",
       " <selenium.webdriver.remote.webelement.WebElement (session=\"9ab26756484e4ffcf908cb8c92418b72\", element=\"688de86f-8de6-4982-b51f-302ba6ec4d85\")>]"
      ]
     },
     "execution_count": 12,
     "metadata": {},
     "output_type": "execute_result"
    }
   ],
   "source": [
    "vuelos = driver.find_elements_by_xpath('//li[@class=\"sc-jotlie gITKrb\"]')\n",
    "vuelos"
   ]
  },
  {
   "cell_type": "markdown",
   "metadata": {},
   "source": [
    "#### Explicación xpath:\n",
    "\n",
    "#### Introducimos:\n",
    "<ul>\n",
    "<ol><p>// -> Elementos en todo el arbol independiente de si son hijos directos o hijos de hijos</p></ol>\n",
    "<ol><p>li -> tag de html a buscar </p></ol>\n",
    "<ol><p>@class=\"\" -> Indicamos que atributo usamos para buscar este elemento </p></ol>\n",
    "</ul>"
   ]
  },
  {
   "cell_type": "code",
   "execution_count": 13,
   "metadata": {},
   "outputs": [],
   "source": [
    "vuelo = vuelos[0]"
   ]
  },
  {
   "cell_type": "code",
   "execution_count": 14,
   "metadata": {},
   "outputs": [
    {
     "data": {
      "text/plain": [
       "<selenium.webdriver.remote.webelement.WebElement (session=\"9ab26756484e4ffcf908cb8c92418b72\", element=\"38181bf1-647f-4143-b168-1d344137a4cd\")>"
      ]
     },
     "execution_count": 14,
     "metadata": {},
     "output_type": "execute_result"
    }
   ],
   "source": [
    "vuelo"
   ]
  },
  {
   "cell_type": "code",
   "execution_count": 15,
   "metadata": {},
   "outputs": [
    {
     "data": {
      "text/plain": [
       "[<selenium.webdriver.remote.webelement.WebElement (session=\"9ab26756484e4ffcf908cb8c92418b72\", element=\"f8216ab1-37fe-476b-8ffa-d564e935d362\")>,\n",
       " <selenium.webdriver.remote.webelement.WebElement (session=\"9ab26756484e4ffcf908cb8c92418b72\", element=\"0700d4f2-fd5a-4b20-85d6-2142ba77c23b\")>]"
      ]
     },
     "execution_count": 15,
     "metadata": {},
     "output_type": "execute_result"
    }
   ],
   "source": [
    "vuelo_info = vuelo.find_elements_by_xpath('.//div[@class=\"sc-jhaWeW jCjnWv flight-information\"]')\n",
    "vuelo_info"
   ]
  },
  {
   "cell_type": "code",
   "execution_count": 16,
   "metadata": {},
   "outputs": [],
   "source": [
    "info_salida = vuelo_info[0]\n",
    "info_llegada = vuelo_info[1]\n",
    "\n",
    "xpath_hora = './/span[@class=\"sc-guztPN dFRJGh\"]'\n",
    "xpath_lugar = './/span[@class=\"sc-cFlXAS dTkFnd\"]'\n",
    "\n",
    "hora_salida = info_salida.find_element_by_xpath(xpath_hora).text\n",
    "try:\n",
    "    hora_llegada = info_llegada.find_element_by_xpath(xpath_hora).text.replace('\\n+1','')\n",
    "except:\n",
    "    hora_llegada = info_llegada.find_element_by_xpath(xpath_hora).text.replace\n",
    "\n",
    "lugar_salida = info_salida.find_element_by_xpath(xpath_lugar).text\n",
    "lugar_llegada = info_llegada.find_element_by_xpath(xpath_lugar).text\n",
    "\n",
    "duracion_vuelo = vuelo.find_element_by_xpath('//div[@class=\"sc-jhaWeW jCjnWv flight-duration\"]').find_element_by_xpath('.//span[@class=\"sc-hcnlBt ZOLOQ\"]').text"
   ]
  },
  {
   "cell_type": "code",
   "execution_count": 17,
   "metadata": {},
   "outputs": [
    {
     "name": "stdout",
     "output_type": "stream",
     "text": [
      "Vuelo BOG-CUZ\n",
      "Salida: 5:56 p. m. | Llegada:9:30 a. m. | Duración:15 h 34 min\n"
     ]
    }
   ],
   "source": [
    "print(f'Vuelo {lugar_salida}-{lugar_llegada}\\nSalida: {hora_salida} | Llegada:{hora_llegada} | Duración:{duracion_vuelo}')"
   ]
  },
  {
   "cell_type": "code",
   "execution_count": null,
   "metadata": {},
   "outputs": [],
   "source": [
    "#driver.close("
   ]
  },
  {
   "cell_type": "code",
   "execution_count": 25,
   "metadata": {},
   "outputs": [],
   "source": [
    "boton = vuelo.find_element_by_xpath('.//a')"
   ]
  },
  {
   "cell_type": "code",
   "execution_count": 26,
   "metadata": {},
   "outputs": [],
   "source": [
    "boton.click()"
   ]
  },
  {
   "cell_type": "code",
   "execution_count": 84,
   "metadata": {},
   "outputs": [],
   "source": [
    "segmentos = vuelo.find_elements_by_xpath('//div[@class=\"MuiDialogContent-root sc-eqIVtm blBzMp\"]/article/div/section[@class=\"sc-gMcBNU btLPby\"]')"
   ]
  },
  {
   "cell_type": "code",
   "execution_count": 89,
   "metadata": {},
   "outputs": [],
   "source": [
    "escalas = len(segmentos)-1"
   ]
  },
  {
   "cell_type": "code",
   "execution_count": 90,
   "metadata": {},
   "outputs": [
    {
     "data": {
      "text/plain": [
       "1"
      ]
     },
     "execution_count": 90,
     "metadata": {},
     "output_type": "execute_result"
    }
   ],
   "source": [
    "escalas"
   ]
  },
  {
   "cell_type": "code",
   "execution_count": null,
   "metadata": {},
   "outputs": [],
   "source": []
  }
 ],
 "metadata": {
  "interpreter": {
   "hash": "20f686af2b8543278885fb4bfbde836d337e88a2d9dd0085651dc699d9aa42d5"
  },
  "kernelspec": {
   "display_name": "Python 3",
   "language": "python",
   "name": "python3"
  },
  "language_info": {
   "codemirror_mode": {
    "name": "ipython",
    "version": 3
   },
   "file_extension": ".py",
   "mimetype": "text/x-python",
   "name": "python",
   "nbconvert_exporter": "python",
   "pygments_lexer": "ipython3",
   "version": "3.8.8"
  }
 },
 "nbformat": 4,
 "nbformat_minor": 2
}
